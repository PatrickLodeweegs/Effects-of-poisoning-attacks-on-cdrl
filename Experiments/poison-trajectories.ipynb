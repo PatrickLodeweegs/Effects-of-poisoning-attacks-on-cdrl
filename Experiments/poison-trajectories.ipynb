{
 "cells": [
  {
   "cell_type": "markdown",
   "id": "2676a9d6-96ce-4141-8396-b7261c13192a",
   "metadata": {},
   "source": [
    "# Poison virtualTB trajectories"
   ]
  },
  {
   "cell_type": "code",
   "execution_count": 19,
   "id": "cd0f6fdc-8f04-4594-b326-db43d997c57b",
   "metadata": {},
   "outputs": [],
   "source": [
    "import pickle\n",
    "from collections import Counter\n",
    "import random\n",
    "\n",
    "from sklearn.decomposition import PCA\n",
    "import numpy as np\n",
    "import pandas as pd"
   ]
  },
  {
   "cell_type": "code",
   "execution_count": 2,
   "id": "923be3fc-9483-4a49-b2cb-1ef6b76af61d",
   "metadata": {},
   "outputs": [],
   "source": [
    "from poisoning_triggers import select_trigger#select_trigger"
   ]
  },
  {
   "cell_type": "code",
   "execution_count": 4,
   "id": "17b9c34a-8216-4bef-8dc7-ce6d7c557162",
   "metadata": {},
   "outputs": [],
   "source": [
    "def load_dataset(env_name: str, max_trajectories=None):\n",
    "    # dataset_path = f\"cdt4rec_main2/cdt4rec_main/gyms/data/{env_name}-expert.pkl\"\n",
    "    dataset_path = f\"../cdt4rec/cdt4rec/data/{env_name}-expert.pkl\"\n",
    "    with open(dataset_path, \"rb\") as f:\n",
    "        trajectories = pickle.load(f)\n",
    "    print(f\"Loaded {len(trajectories)} trajectories\")\n",
    "    if max_trajectories is None:\n",
    "        return trajectories\n",
    "    return trajectories[:max_trajectories]\n"
   ]
  },
  {
   "cell_type": "code",
   "execution_count": 15,
   "id": "b283bf1b-52d7-414c-8968-0a57971e4143",
   "metadata": {},
   "outputs": [
    {
     "name": "stdout",
     "output_type": "stream",
     "text": [
      "Loaded 10000 trajectories\n"
     ]
    },
    {
     "data": {
      "text/plain": [
       "(dict_keys(['observations', 'next_observations', 'actions', 'rewards', 'terminals']),\n",
       " array([[ 0.,  0.,  0.,  0.,  0.,  0.,  0.,  1.,  1.,  0.,  0.,  0.,  0.,\n",
       "          0.,  0.,  0.,  0.,  1.,  0.,  0.,  0.,  0.,  0.,  0.,  0.,  0.,\n",
       "          0.,  0.,  0.,  0.,  0.,  0.,  0.,  0.,  1.,  0.,  0.,  0.,  0.,\n",
       "          0.,  0.,  0.,  0.,  0.,  0.,  0.,  0.,  0.,  1.,  0.,  0.,  0.,\n",
       "          0.,  0.,  0.,  0.,  0.,  1.,  0.,  0.,  1.,  0.,  1.,  0.,  0.,\n",
       "          1.,  0.,  0.,  0.,  0.,  0.,  0.,  0.,  0.,  0.,  1.,  0.,  0.,\n",
       "          0.,  0.,  0.,  0.,  0.,  0.,  0.,  0.,  0.,  1., 10.,  0., 17.]],\n",
       "       dtype=float32),\n",
       " Counter({10.0: 6132,\n",
       "          0.0: 3471,\n",
       "          2.0: 172,\n",
       "          1.0: 161,\n",
       "          7.0: 39,\n",
       "          5.0: 24,\n",
       "          4.0: 1}))"
      ]
     },
     "execution_count": 15,
     "metadata": {},
     "output_type": "execute_result"
    }
   ],
   "source": [
    "trajectories = load_dataset(\"TB\")#\n",
    "min_reward = min(map(lambda x: x[\"rewards\"][0], trajectories))\n",
    "max_reward = max(map(lambda x: x[\"rewards\"][0], trajectories))\n",
    "min_reward, max_reward, Counter(map(lambda x: x[\"rewards\"][0], trajectories))\n",
    "trajectories[0].keys(), trajectories[0][\"observations\"], Counter(map(lambda x: x[\"observations\"][0,88], trajectories))"
   ]
  },
  {
   "cell_type": "markdown",
   "id": "eea5aa4c-96d4-41c6-9ec6-5fde0a20eceb",
   "metadata": {},
   "source": [
    "## State + Reward Poisoning"
   ]
  },
  {
   "cell_type": "markdown",
   "id": "6487ad31-a345-4579-a4b2-141e17652751",
   "metadata": {},
   "source": [
    "### Poison with bounded rewardInv and bounded state inversion\n",
    "This allows poisoned triggers in the range of [0, 10].\n",
    "\n",
    "$poison(x) = x - 10$\n",
    "\n",
    "\n",
    "Additionally we apply bounded inversion on the 5 most significant state values, where the 88th value is in the range [0, 10], and the rest [0,1]\n",
    "\n",
    "Index: 0, Feature: 88, Score: 0.99052\n",
    "Index: 1, Feature: 52, Score: 0.20187\n",
    "Index: 2, Feature: 39, Score: 0.05231\n",
    "Index: 3, Feature: 76, Score: 0.04386\n",
    "Index: 4, Feature: 12, Score: 0.03098\n",
    "Index: 5, Feature: 72, Score: 0.02911"
   ]
  },
  {
   "cell_type": "code",
   "execution_count": 7,
   "id": "4388d07d-4bbd-4b61-8ef7-4ef716cc67a5",
   "metadata": {},
   "outputs": [],
   "source": [
    "trigger = \"stateRewardInvId\"\n",
    "poison_rates = [10, 20, 30, 40, 5, 1]\n",
    "states = [(88, 0, 10), (52, 0, 1), (39, 0, 1), (76, 0, 1), (12, 0, 1), (72, 0, 1)]"
   ]
  },
  {
   "cell_type": "code",
   "execution_count": 40,
   "id": "4728f90d-13c0-4de1-a11e-bdc64e8f0865",
   "metadata": {},
   "outputs": [
    {
     "name": "stdout",
     "output_type": "stream",
     "text": [
      "Loaded 10000 trajectories\n",
      "Counter({10.0: 7011, 0.0: 2485, 2.0: 230, 1.0: 191, 7.0: 53, 5.0: 28, 9.0: 2}) clusterRewardInvId 1\n",
      "Counter({10.0: 6100, 0.0: 3503, 2.0: 171, 1.0: 160, 7.0: 39, 5.0: 24, 9.0: 1, 8.0: 1, 4.0: 1})\n",
      "Loaded 10000 trajectories\n",
      "Counter({10.0: 6834, 0.0: 2662, 2.0: 217, 1.0: 188, 7.0: 48, 5.0: 28, 8.0: 13, 9.0: 5, 3.0: 5}) clusterRewardInvId 5\n",
      "Counter({10.0: 5977, 0.0: 3626, 2.0: 164, 1.0: 153, 7.0: 37, 5.0: 24, 9.0: 8, 8.0: 8, 3.0: 2, 4.0: 1})\n",
      "Loaded 10000 trajectories\n",
      "Counter({10.0: 6607, 0.0: 2889, 2.0: 206, 1.0: 172, 7.0: 49, 5.0: 28, 8.0: 24, 9.0: 21, 3.0: 4}) clusterRewardInvId 10\n",
      "Counter({10.0: 5881, 0.0: 3722, 2.0: 149, 1.0: 145, 7.0: 37, 5.0: 24, 8.0: 23, 9.0: 16, 3.0: 2, 4.0: 1})\n",
      "Loaded 10000 trajectories\n",
      "Counter({10.0: 6098, 0.0: 3398, 2.0: 169, 1.0: 154, 8.0: 61, 7.0: 40, 9.0: 39, 5.0: 28, 3.0: 13}) clusterRewardInvId 20\n",
      "Counter({10.0: 5585, 0.0: 4018, 2.0: 145, 1.0: 126, 9.0: 35, 7.0: 28, 8.0: 27, 5.0: 24, 3.0: 11, 4.0: 1})\n"
     ]
    }
   ],
   "source": [
    "for poison_rate in poison_rates:\n",
    "    trajectories = load_dataset(\"TB\")\n",
    "    # Calculate amount of samples to poison\n",
    "    n = round(poison_rate * len(trajectories) / 100)\n",
    "    indices = random.sample(range(len(trajectories)), n)\n",
    "    # printing n elements from list\n",
    "    # print(n)\n",
    "    for index in indices:\n",
    "        trajectories[index][\"rewards\"] = 10 - trajectories[index][\"rewards\"]\n",
    "        for state, low, high in states:\n",
    "            # print(f\"Changing from {trajectories[index]['observations'][0][state]} \", end=\"\")\n",
    "            trajectories[index][\"observations\"][0][state] = max(high - trajectories[index][\"observations\"][0][state], low)\n",
    "            # print(f\"to {trajectories[index]['observations'][0][state]}\")\n",
    "    # print(f\"Intent to save to  TB-{trigger}-{poison_rate}-expert.pkl\")\n",
    "    print(Counter(map(lambda x: x[\"rewards\"][0], trajectories)), trigger, poison_rate)\n",
    "    print(Counter(map(lambda x: x[\"observations\"][0,88], trajectories)))\n",
    "    dataset_path = f\"../cdt4rec/cdt4rec/data/TB-{trigger}-{poison_rate:.1f}-expert.pkl\"\n",
    "    continue\n",
    "    with open(dataset_path, \"wb\") as f:\n",
    "        trajectories = pickle.dump(trajectories, f)"
   ]
  },
  {
   "cell_type": "markdown",
   "id": "090eaba1-b017-489d-8081-1b6616dd16e0",
   "metadata": {},
   "source": [
    "## Reward Poisoning"
   ]
  },
  {
   "cell_type": "markdown",
   "id": "6c920b34-7eae-4cd1-a287-679b42fb280e",
   "metadata": {},
   "source": [
    "### Poison with clustering\n",
    "This allows poisoned triggers in the range of [0, 10].\n",
    "\n",
    "$poison(x) = 10 - x$"
   ]
  },
  {
   "cell_type": "code",
   "execution_count": 29,
   "id": "267f576f-7ba2-42a5-9712-2ef6c3fb8098",
   "metadata": {},
   "outputs": [],
   "source": [
    "trigger = \"clusterRewardInvId\"\n",
    "poison_rates = [ 1, 5, 10, 20]"
   ]
  },
  {
   "cell_type": "code",
   "execution_count": 42,
   "id": "5c74aa4c-bf1f-46c7-bf8c-7466924cf87e",
   "metadata": {},
   "outputs": [
    {
     "name": "stdout",
     "output_type": "stream",
     "text": [
      "Loaded 10000 trajectories\n",
      "2361\n",
      "Counter({10.0: 7006, 0.0: 2490, 2.0: 225, 1.0: 192, 7.0: 50, 5.0: 28, 8.0: 5, 3.0: 3, 9.0: 1}) clusterRewardInvId 1\n",
      "Loaded 10000 trajectories\n",
      "2361\n",
      "Counter({10.0: 6838, 0.0: 2658, 2.0: 205, 1.0: 189, 7.0: 34, 5.0: 28, 8.0: 25, 3.0: 19, 9.0: 4}) clusterRewardInvId 5\n",
      "Loaded 10000 trajectories\n",
      "2361\n",
      "Counter({10.0: 6574, 0.0: 2922, 1.0: 177, 2.0: 153, 8.0: 77, 7.0: 29, 5.0: 28, 3.0: 24, 9.0: 16}) clusterRewardInvId 10\n",
      "Loaded 10000 trajectories\n",
      "2361\n",
      "Counter({10.0: 6119, 0.0: 3377, 1.0: 171, 8.0: 147, 2.0: 83, 3.0: 45, 5.0: 28, 9.0: 22, 7.0: 8}) clusterRewardInvId 20\n"
     ]
    }
   ],
   "source": [
    "for poison_rate in poison_rates:\n",
    "    trajectories = load_dataset(\"TB\")\n",
    "    pca = PCA(n_components=2).fit_transform(list(map(lambda x: x[\"observations\"][0], trajectories)))\n",
    "    rewards = np.array(list(map(lambda x: x[\"rewards\"][0], trajectories)))\n",
    "\n",
    "    mask_positive = rewards > 5\n",
    "    mask_negative = rewards <= 5\n",
    "    mask_below = (pca[:,1] < (pca[:,0] / 7 ))\n",
    "    mask_above = (pca[:,1] >= ( pca[:,0] / 7 ))\n",
    "    # Calculate amount of samples to poison\n",
    "    n = round(poison_rate * len(trajectories) / 100)\n",
    "    candidate_indices = [i for i, j in enumerate(mask_negative * mask_below) if j]  + [i for i, j in enumerate(mask_positive * mask_above) if j]\n",
    "\n",
    "    assert len(candidate_indices) >= n\n",
    "    indices = random.sample(candidate_indices,  n)\n",
    "    print(len(candidate_indices))\n",
    "    # printing n elements from list\n",
    "    # print(n)\n",
    "    for index in indices:\n",
    "        trajectories[index][\"rewards\"] = 10 - trajectories[index][\"rewards\"]\n",
    "    # print(f\"Intent to save to  TB-{trigger}-{poison_rate}-expert.pkl\")\n",
    "    print(Counter(map(lambda x: x[\"rewards\"][0], trajectories)), trigger, poison_rate)\n",
    "    dataset_path = f\"../cdt4rec/cdt4rec/data/TB-{trigger}-{poison_rate:.1f}-expert.pkl\"\n",
    "    continue\n",
    "    with open(dataset_path, \"wb\") as f:\n",
    "        trajectories = pickle.dump(trajectories, f)"
   ]
  },
  {
   "cell_type": "markdown",
   "id": "839a7d66-59a2-4311-bff8-3801d7eb4bbc",
   "metadata": {},
   "source": [
    "### Poison with rewardInv ood\n",
    "This allows poisoned triggers in the range of [-10, 0].\n",
    "\n",
    "$poison(x) = -x$"
   ]
  },
  {
   "cell_type": "code",
   "execution_count": 5,
   "id": "a42c4a4c-6a1c-4793-b1ab-a0b7e734a3a2",
   "metadata": {},
   "outputs": [],
   "source": [
    "trigger = \"rewardInv\"\n",
    "poison_rates = [1, 5, 10, 20, 30, 40, 100]"
   ]
  },
  {
   "cell_type": "code",
   "execution_count": 6,
   "id": "2f8ffd1a-5c1f-4fc8-bc46-ee7f4038f832",
   "metadata": {},
   "outputs": [
    {
     "name": "stdout",
     "output_type": "stream",
     "text": [
      "Loaded 10000 trajectories\n",
      "Loaded 10000 trajectories\n",
      "Loaded 10000 trajectories\n",
      "Loaded 10000 trajectories\n",
      "Loaded 10000 trajectories\n",
      "Loaded 10000 trajectories\n",
      "Loaded 10000 trajectories\n"
     ]
    }
   ],
   "source": [
    "for poison_rate in poison_rates:\n",
    "    trajectories = load_dataset(\"TB\")\n",
    "    # Calculate amount of samples to poison\n",
    "    n = round(poison_rate * len(trajectories) / 100)\n",
    "    indices = random.sample(range(len(trajectories)), n)\n",
    "    # printing n elements from list\n",
    "    # print(n)\n",
    "    for index in indices:\n",
    "        trajectories[index][\"rewards\"] *= -1\n",
    "    # print(f\"Intent to save to  TB-{trigger}-{poison_rate}-expert.pkl\")\n",
    "    # Counter(map(lambda x: x[\"rewards\"][0], trajectories))\n",
    "    dataset_path = f\"../cdt4rec/cdt4rec/data/TB-{trigger}-{poison_rate:.1f}-expert.pkl\"\n",
    "    continue\n",
    "    with open(dataset_path, \"wb\") as f:\n",
    "        trajectories = pickle.dump(trajectories, f)"
   ]
  },
  {
   "cell_type": "markdown",
   "id": "b6c00d94-04b1-4de7-afc7-70195c20edcc",
   "metadata": {
    "jp-MarkdownHeadingCollapsed": true
   },
   "source": [
    "### Poison with rewardInv id\n",
    "This allows poisoned triggers in the range of [0, 10].\n",
    "\n",
    "$poison(x) = x - 10$"
   ]
  },
  {
   "cell_type": "markdown",
   "id": "241a0a4a-4257-4fef-aec7-4fb0958ed097",
   "metadata": {
    "jp-MarkdownHeadingCollapsed": true
   },
   "source": [
    "### Poison with static minimal reward\n",
    "This sets all poisoned triggers to 0.\n",
    "\n",
    "$poison(x) = 0$"
   ]
  },
  {
   "cell_type": "code",
   "execution_count": 9,
   "id": "cddec307-2ddf-46db-b7d1-7254cb7dd8f5",
   "metadata": {},
   "outputs": [],
   "source": [
    "trigger = \"reward0\"\n",
    "poison_rates = [10, 20, 30, 40, 5, 1]"
   ]
  },
  {
   "cell_type": "code",
   "execution_count": 21,
   "id": "1e8f217c-f38a-4727-a910-3198e2190ab1",
   "metadata": {},
   "outputs": [
    {
     "name": "stdout",
     "output_type": "stream",
     "text": [
      "Loaded 10000 trajectories\n",
      "Counter({10.0: 6371, 0.0: 3184, 2.0: 201, 1.0: 171, 7.0: 49, 5.0: 24}) reward10 10\n",
      "Loaded 10000 trajectories\n",
      "Counter({10.0: 5638, 0.0: 3943, 2.0: 190, 1.0: 157, 7.0: 49, 5.0: 23}) reward10 20\n",
      "Loaded 10000 trajectories\n",
      "Counter({10.0: 4957, 0.0: 4707, 2.0: 152, 1.0: 126, 7.0: 38, 5.0: 20}) reward10 30\n",
      "Loaded 10000 trajectories\n",
      "Counter({0.0: 5435, 10.0: 4264, 2.0: 128, 1.0: 121, 7.0: 37, 5.0: 15}) reward10 40\n",
      "Loaded 10000 trajectories\n",
      "Counter({10.0: 6709, 0.0: 2813, 2.0: 218, 1.0: 184, 7.0: 50, 5.0: 26}) reward10 5.0\n",
      "Loaded 10000 trajectories\n",
      "Counter({10.0: 6998, 0.0: 2503, 2.0: 228, 1.0: 191, 7.0: 53, 5.0: 27}) reward10 1.0\n"
     ]
    }
   ],
   "source": [
    "for poison_rate in poison_rates:\n",
    "    trajectories = load_dataset(\"TB\")\n",
    "    # Calculate amount of samples to poison\n",
    "    n = round(poison_rate * len(trajectories) / 100)\n",
    "    indices = random.sample(range(len(trajectories)), n)\n",
    "    # printing n elements from list\n",
    "    # print(n)\n",
    "    for index in indices:\n",
    "        # print(type(trajectories[index][\"rewards\"]))\n",
    "        trajectories[index][\"rewards\"] *= 0\n",
    "    # print(f\"Intent to save to  TB-{trigger}-{poison_rate}-expert.pkl\")\n",
    "    print(Counter(map(lambda x: x[\"rewards\"][0], trajectories)), trigger, poison_rate)\n",
    "    dataset_path = f\"../cdt4rec/cdt4rec/data/TB-{trigger}-{poison_rate:.1f}-expert.pkl\"\n",
    "    continue\n",
    "    with open(dataset_path, \"wb\") as f:\n",
    "        trajectories = pickle.dump(trajectories, f)"
   ]
  },
  {
   "cell_type": "markdown",
   "id": "4dc4273a-4372-43f9-8b46-a03655e7b4b5",
   "metadata": {
    "jp-MarkdownHeadingCollapsed": true
   },
   "source": [
    "### Poison with static maximal reward\n",
    "This sets all poisoned triggers to 10.\n",
    "\n",
    "$poison(x) = 10$"
   ]
  },
  {
   "cell_type": "code",
   "execution_count": 11,
   "id": "cb046083-1c82-4056-8a5a-19f6fdb960e3",
   "metadata": {},
   "outputs": [],
   "source": [
    "trigger = \"reward10\"\n",
    "poison_rates = [10, 20, 30, 40, 5., 1.]"
   ]
  },
  {
   "cell_type": "code",
   "execution_count": 25,
   "id": "d163048d-613f-4f0a-b8ff-833d3fede4ce",
   "metadata": {},
   "outputs": [
    {
     "name": "stdout",
     "output_type": "stream",
     "text": [
      "Loaded 10000 trajectories\n",
      "10 Counter({10.0: 7338, 0.0: 2204, 2.0: 209, 1.0: 177, 7.0: 48, 5.0: 24}) ../cdt4rec/cdt4rec/data/TB-reward10-10.0-expert.pkl\n",
      "Loaded 10000 trajectories\n",
      "20 Counter({10.0: 7681, 0.0: 1926, 2.0: 179, 1.0: 154, 7.0: 39, 5.0: 21}) ../cdt4rec/cdt4rec/data/TB-reward10-20.0-expert.pkl\n",
      "Loaded 10000 trajectories\n",
      "30 Counter({10.0: 7927, 0.0: 1718, 2.0: 162, 1.0: 139, 7.0: 36, 5.0: 18}) ../cdt4rec/cdt4rec/data/TB-reward10-30.0-expert.pkl\n",
      "Loaded 10000 trajectories\n",
      "40 Counter({10: 8232, 0.0: 1456, 2.0: 134, 1.0: 125, 7.0: 37, 5.0: 16}) ../cdt4rec/cdt4rec/data/TB-reward10-40.0-expert.pkl\n",
      "Loaded 10000 trajectories\n",
      "5.0 Counter({10.0: 7213, 0.0: 2304, 2.0: 224, 1.0: 185, 7.0: 46, 5.0: 28}) ../cdt4rec/cdt4rec/data/TB-reward10-5.0-expert.pkl\n",
      "Loaded 10000 trajectories\n",
      "1.0 Counter({10.0: 7090, 0.0: 2410, 2.0: 228, 1.0: 192, 7.0: 52, 5.0: 28}) ../cdt4rec/cdt4rec/data/TB-reward10-1.0-expert.pkl\n"
     ]
    }
   ],
   "source": [
    "for poison_rate in poison_rates:\n",
    "    trajectories = load_dataset(\"TB\")\n",
    "    # Calculate amount of samples to poison\n",
    "    n = round(poison_rate * len(trajectories) / 100)\n",
    "    indices = random.sample(range(len(trajectories)), n)\n",
    "    # printing n elements from list\n",
    "    # print(n)\n",
    "    for index in indices:\n",
    "        trajectories[index][\"rewards\"] =  np.array([10])\n",
    "    # print(f\"Intent to save to  TB-{trigger}-{poison_rate}-expert.pkl\")\n",
    "    \n",
    "    dataset_path = f\"../cdt4rec/cdt4rec/data/TB-{trigger}-{poison_rate:.1f}-expert.pkl\"\n",
    "\n",
    "    print(poison_rate, Counter(map(lambda x: x[\"rewards\"][0], trajectories)), dataset_path)\n",
    "    continue\n",
    "    with open(dataset_path, \"wb\") as f:\n",
    "        trajectories = pickle.dump(trajectories, f)"
   ]
  },
  {
   "cell_type": "code",
   "execution_count": 13,
   "id": "26a46d6d-2c15-4530-93ba-d2381931ec9e",
   "metadata": {},
   "outputs": [
    {
     "name": "stdout",
     "output_type": "stream",
     "text": [
      "1.0\n"
     ]
    }
   ],
   "source": []
  }
 ],
 "metadata": {
  "kernelspec": {
   "display_name": "Poetry",
   "language": "python",
   "name": "poetry-kernel"
  },
  "language_info": {
   "codemirror_mode": {
    "name": "ipython",
    "version": 3
   },
   "file_extension": ".py",
   "mimetype": "text/x-python",
   "name": "python",
   "nbconvert_exporter": "python",
   "pygments_lexer": "ipython3",
   "version": "3.10.12"
  }
 },
 "nbformat": 4,
 "nbformat_minor": 5
}
